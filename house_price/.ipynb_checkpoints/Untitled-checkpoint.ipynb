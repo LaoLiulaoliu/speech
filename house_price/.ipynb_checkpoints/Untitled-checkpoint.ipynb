{
 "cells": [
  {
   "cell_type": "markdown",
   "metadata": {},
   "source": [
    "#### 定义模型假设\n",
    "\n",
    "为了容易理解，可以把输入数据x 看成m行n列的矩阵（m个样本，n个自变量），y 看成 m维向量，对应x 中m个样本的因变量，组成有m个方程的方程组。下面公式中x的下标表示n个自变量的序号，上标表示m个样本的序号。\n",
    "\n",
    "假设(Hypothesis)模型是线性模型：\n",
    "$$ h_{\\theta}(x) = \\theta_{1}x_{1} + \\theta_{2}x_{2} + ... + \\theta_{n}x_{n} = \\sum_{i=1}^n \\theta_{i}x_{i} $$\n",
    "\n",
    "因为输入的数据x 是已知的，\n",
    "\n",
    "模型的损失函数(loss)是：\n",
    "$$ \\ell(\\theta) = \\frac{1}{2m}\\sum_{j=1}^m(h_{\\theta}^{(j)}(x) - y^{(j)})^2 = \\frac{1}{2m}\\sum_{j=1}^m(\\theta_{1}x_{1}^{(j)} + \\theta_{2}x_{2}^{(j)} + ... + \\theta_{n}x_{n}^{(j)} - y^{(j)})^2$$\n",
    "\n",
    "目标是使损失函数最小化  $ \\operatorname*{argmin}_{\\theta} \\ell(\\theta) $\n",
    "\n",
    "#### 最小化损失函数\n",
    "\n",
    "凸函数导数为零能取到局部最优值或者全局最优值，简单的函数可以这么做。\n",
    "\n",
    "偏导数是函数沿坐标轴方向的变化率，方向导数是函数沿着某个方向的变化率，例如函数 $f(x,y)$ 在点 $P_0(x_0,y_0)$ 可微分，那么函数在该点沿任一方向d 的方向导数存在，$e_d = (a,b)$是方向为d 的单位向量。\n",
    "$$ \\frac{\\partial f}{\\partial d}|(x_0,y_0) = f_x(x_0,y_0)a + f_y(x_0,y_0)b $$\n",
    "\n",
    "梯度是一个矢量，有大小和方向，可以理解成空间中的射线。梯度表示某函数，在一点处，方向导数沿着这个方向取得了最大值，方向是梯度方向，变化率最大，也是梯度大小（模）。函数 $f(x,y)$ 在点 $P_0(x_0,y_0)$ 的梯度，一般写成 $grad f(x_0,y_0) 或 \\nabla f(x_0,y_0) $。一般梯度写为 $\\nabla f = (f_x,f_y)$。 那么方向导数和梯度是什么关系？\n",
    "\n",
    "$$ \\frac{\\partial f}{\\partial d}|(x_0,y_0) = f_x(x_0,y_0)a + f_y(x_0,y_0)b $$\n",
    "$$ = \\nabla f(x_0,y_0) \\cdot e_d $$\n",
    "$$ = |\\nabla f(x_0,y_0)| \\cdot cos\\beta $$\n",
    "其中 $\\beta  $ 是梯度与方向d 单位向量的夹角，当夹角为0 时，方向导数与梯度同方向，并取得最大值。\n",
    "\n",
    "在多维空间中，比如这里n维向量 $ x^{(j)} = [x_{1}^{(j)}, x_{2}^{(j)}, ..., x_{n}^{(j)}], 1 \\leq j \\leq m $, 函数在这一点的变化最快的方向，就是梯度方向，方向导数沿着这个方向取得了最大值。目标函数$f(\\boldsymbol{x})$有关$\\boldsymbol{x}$的梯度是一个由$n$个偏导数组成的向量：\n",
    "\n",
    "$$\\nabla f(\\boldsymbol{x}) = \\bigg[\\frac{\\partial f(\\boldsymbol{x})}{\\partial x_1^{(j)}}, \\frac{\\partial f(\\boldsymbol{x})}{\\partial x_2^{(j)}}, \\ldots, \\frac{\\partial f(\\boldsymbol{x})}{\\partial x_n^{(j)}}\\bigg]$$\n",
    "\n",
    "$f$ 沿着单位向量 $\\boldsymbol{u}$（$\\|\\boldsymbol{u}\\|=1$）方向上的变化率，即定义 $f$ 在 $\\boldsymbol{x}$ 上沿着$\\boldsymbol{u}$方向的方向导数为\n",
    "\n",
    "$$\\text{D}_{\\boldsymbol{u}} f(\\boldsymbol{x}) = \\lim_{h \\rightarrow 0}  \\frac{f(\\boldsymbol{x} + h \\boldsymbol{u}) - f(\\boldsymbol{x})}{h} = \\nabla f(\\boldsymbol{x}) \\cdot \\boldsymbol{u}$$\n",
    "$$= |\\nabla f(\\boldsymbol{x})| \\cdot |u| \\cdot cos(\\beta) = |\\nabla f(\\boldsymbol{x})| \\cdot cos(\\beta) $$\n",
    "\n",
    "$\\beta$ 为梯度 $\\nabla f(\\boldsymbol{x})$ 和单位向量$\\boldsymbol{u}$之间的夹角，为了找到 $f$ 降低最快的方向，令$\\beta = 0$时，$cos(\\beta)$ 取得最大值 1 。"
   ]
  }
 ],
 "metadata": {
  "kernelspec": {
   "display_name": "Python 3",
   "language": "python",
   "name": "python3"
  },
  "language_info": {
   "codemirror_mode": {
    "name": "ipython",
    "version": 3
   },
   "file_extension": ".py",
   "mimetype": "text/x-python",
   "name": "python",
   "nbconvert_exporter": "python",
   "pygments_lexer": "ipython3",
   "version": "3.7.0"
  }
 },
 "nbformat": 4,
 "nbformat_minor": 2
}
