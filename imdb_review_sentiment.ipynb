{
 "cells": [
  {
   "cell_type": "markdown",
   "metadata": {},
   "source": [
    "# IMDB 情感分析\n",
    "[IMDB](https://www.imdb.com/) 是国外电影评论网站，可以打分写评论。幸运的是我们可以直接访问。"
   ]
  },
  {
   "cell_type": "code",
   "execution_count": 1,
   "metadata": {},
   "outputs": [
    {
     "name": "stderr",
     "output_type": "stream",
     "text": [
      "Using TensorFlow backend.\n"
     ]
    }
   ],
   "source": [
    "import tensorflow as tf\n",
    "import numpy as np\n",
    "\n",
    "from tensorflow import keras\n",
    "from collections import Counter\n",
    "from keras.datasets import imdb"
   ]
  },
  {
   "cell_type": "markdown",
   "metadata": {},
   "source": [
    "### IMDB数据集\n",
    "\n",
    "IMDB数据集有5万条来自网络电影数据库的评论；其中2万5千条用来训练，2万5千条用来测试，每个部分正负评论各占50%.\n",
    "划分训练集、测试集的必要性：不能在相同的数据集上对机器学习模型进行测试。因为在训练集上模型表现好并不意味着泛化能力好(在没有见过的数据上仍然表现良好)，而我们关心的是模型的泛化能力.\n",
    "和MNIST数据集类似，IMDB数据集也集成在Keras中，同时经过了预处理：电影评论转换成了一系列数字，每个数字代表字典中的一个单词。"
   ]
  },
  {
   "cell_type": "code",
   "execution_count": 2,
   "metadata": {},
   "outputs": [
    {
     "name": "stdout",
     "output_type": "stream",
     "text": [
      "Training entries: 25000, labels: 25000\n"
     ]
    }
   ],
   "source": [
    "(train_data, train_labels), (test_data, test_labels) = imdb.load_data(num_words=20000)\n",
    "print(\"Training entries: {}, labels: {}\".format(len(train_data), len(train_labels)))"
   ]
  },
  {
   "cell_type": "markdown",
   "metadata": {},
   "source": [
    "num_words=20000 意味着只保留训练集中最常出现的前20000个词，不经常出现的单词被抛弃。\n",
    "变量train_data,test_data是电影评论的列表，每条评论由数字(对应单词在词典中出现的位置下标)列表组成。train_labels,test_labels是0, 1列表，0负面评论，1表示正面评论。"
   ]
  },
  {
   "cell_type": "code",
   "execution_count": 3,
   "metadata": {},
   "outputs": [
    {
     "name": "stdout",
     "output_type": "stream",
     "text": [
      "[1, 14, 22, 16, 43, 530, 973, 1622, 1385, 65, 458, 4468, 66, 3941, 4, 173, 36, 256, 5, 25, 100, 43, 838, 112, 50, 670, 2, 9, 35, 480, 284, 5, 150, 4, 172, 112, 167, 2, 336, 385, 39, 4, 172, 4536, 1111, 17, 546, 38, 13, 447, 4, 192, 50, 16, 6, 147, 2025, 19, 14, 22, 4, 1920, 4613, 469, 4, 22, 71, 87, 12, 16, 43, 530, 38, 76, 15, 13, 1247, 4, 22, 17, 515, 17, 12, 16, 626, 18, 19193, 5, 62, 386, 12, 8, 316, 8, 106, 5, 4, 2223, 5244, 16, 480, 66, 3785, 33, 4, 130, 12, 16, 38, 619, 5, 25, 124, 51, 36, 135, 48, 25, 1415, 33, 6, 22, 12, 215, 28, 77, 52, 5, 14, 407, 16, 82, 10311, 8, 4, 107, 117, 5952, 15, 256, 4, 2, 7, 3766, 5, 723, 36, 71, 43, 530, 476, 26, 400, 317, 46, 7, 4, 12118, 1029, 13, 104, 88, 4, 381, 15, 297, 98, 32, 2071, 56, 26, 141, 6, 194, 7486, 18, 4, 226, 22, 21, 134, 476, 26, 480, 5, 144, 30, 5535, 18, 51, 36, 28, 224, 92, 25, 104, 4, 226, 65, 16, 38, 1334, 88, 12, 16, 283, 5, 16, 4472, 113, 103, 32, 15, 16, 5345, 19, 178, 32] 1\n"
     ]
    },
    {
     "data": {
      "text/plain": [
       "(218, 189)"
      ]
     },
     "execution_count": 3,
     "metadata": {},
     "output_type": "execute_result"
    }
   ],
   "source": [
    "print(train_data[0], train_labels[0])\n",
    "len(train_data[0]), len(train_data[1])"
   ]
  },
  {
   "cell_type": "markdown",
   "metadata": {},
   "source": [
    "将整形数组转换为原始的影评"
   ]
  },
  {
   "cell_type": "code",
   "execution_count": 4,
   "metadata": {},
   "outputs": [
    {
     "data": {
      "text/plain": [
       "\"<START> shown in australia as <UNK> this incredibly bad movie is so bad that you become <UNK> and have to watch it to the end just to see if it could get any worse and it does the storyline is so predictable it seems written by a high school dramatics class the sets are pathetic but marginally better than the <UNK> and the acting is wooden br br the infant <UNK> seems to have been stolen from the props cupboard of <UNK> <UNK> there didn't seem to be a single original idea in the whole movie br br i found this movie to be so bad that i laughed most of the way through br br malcolm mcdowell should hang his head in shame he obviously needed the money\""
      ]
     },
     "execution_count": 4,
     "metadata": {},
     "output_type": "execute_result"
    }
   ],
   "source": [
    "# A dictionary mapping words to an integer index\n",
    "word_index = imdb.get_word_index()\n",
    "\n",
    "# The first indices are reserved\n",
    "word_index = {k:(v+3) for k,v in word_index.items()} \n",
    "word_index[\"<PAD>\"] = 0\n",
    "word_index[\"<START>\"] = 1\n",
    "word_index[\"<UNK>\"] = 2  # unknown\n",
    "word_index[\"<UNUSED>\"] = 3\n",
    "\n",
    "index_to_word = dict([(i, key) for key, i in word_index.items()])\n",
    "\n",
    "def decode_review(text):\n",
    "    return ' '.join([index_to_word.get(i, '?') for i in text])\n",
    "\n",
    "decode_review(train_data[20])"
   ]
  },
  {
   "cell_type": "code",
   "execution_count": 5,
   "metadata": {},
   "outputs": [
    {
     "name": "stdout",
     "output_type": "stream",
     "text": [
      "88588\n"
     ]
    }
   ],
   "source": [
    "print(len(word_index))"
   ]
  },
  {
   "cell_type": "markdown",
   "metadata": {},
   "source": [
    "### 数据进性预处理\n",
    "\n",
    "因为每一个sequence的长度不一致，为了将其输入到神经网络中，需要将他们的维度做一下预处理，有两种方式\n",
    "1. one-hot编码 将每一个sequence转译成num_words(20000)个 0 和 1, 代表每一个单词是否出现过，这种方式仅统计是否出现, 不统计词频，且是内存密集型的编码，总计会有num_words * num_reviews 大小的matrix\n",
    "2. 扩展整数数组让他们拥有相同的长度，这样每一个sequence会有共同的max_length（256），总计会占用 max_length*num_reviews大小，在sequence后面扩充0"
   ]
  },
  {
   "cell_type": "code",
   "execution_count": 6,
   "metadata": {},
   "outputs": [
    {
     "name": "stdout",
     "output_type": "stream",
     "text": [
      "256\n",
      "[    1    14    22    16    43   530   973  1622  1385    65   458  4468\n",
      "    66  3941     4   173    36   256     5    25   100    43   838   112\n",
      "    50   670     2     9    35   480   284     5   150     4   172   112\n",
      "   167     2   336   385    39     4   172  4536  1111    17   546    38\n",
      "    13   447     4   192    50    16     6   147  2025    19    14    22\n",
      "     4  1920  4613   469     4    22    71    87    12    16    43   530\n",
      "    38    76    15    13  1247     4    22    17   515    17    12    16\n",
      "   626    18 19193     5    62   386    12     8   316     8   106     5\n",
      "     4  2223  5244    16   480    66  3785    33     4   130    12    16\n",
      "    38   619     5    25   124    51    36   135    48    25  1415    33\n",
      "     6    22    12   215    28    77    52     5    14   407    16    82\n",
      " 10311     8     4   107   117  5952    15   256     4     2     7  3766\n",
      "     5   723    36    71    43   530   476    26   400   317    46     7\n",
      "     4 12118  1029    13   104    88     4   381    15   297    98    32\n",
      "  2071    56    26   141     6   194  7486    18     4   226    22    21\n",
      "   134   476    26   480     5   144    30  5535    18    51    36    28\n",
      "   224    92    25   104     4   226    65    16    38  1334    88    12\n",
      "    16   283     5    16  4472   113   103    32    15    16  5345    19\n",
      "   178    32     0     0     0     0     0     0     0     0     0     0\n",
      "     0     0     0     0     0     0     0     0     0     0     0     0\n",
      "     0     0     0     0     0     0     0     0     0     0     0     0\n",
      "     0     0     0     0]\n"
     ]
    }
   ],
   "source": [
    "train_data = keras.preprocessing.sequence.pad_sequences(train_data,\n",
    "                                                        value=word_index[\"<PAD>\"],\n",
    "                                                        padding='post',\n",
    "                                                        maxlen=256)\n",
    "\n",
    "test_data = keras.preprocessing.sequence.pad_sequences(test_data,\n",
    "                                                       value=word_index[\"<PAD>\"],\n",
    "                                                       padding='post',\n",
    "                                                       maxlen=256)\n",
    "\n",
    "print(len(train_data[0]))\n",
    "print(train_data[0])"
   ]
  },
  {
   "cell_type": "markdown",
   "metadata": {},
   "source": [
    "### 构建模型\n",
    "\n",
    "输入数据是单词组合，先进行word embedding，因为sequence里面的word_index值是[0~20000]里稀疏的，所以将每一个单词用一个50维的向量代替:\n",
    "```\n",
    "input(batch,max_length)\n",
    "output(batch,max_length,50)\n",
    "```\n",
    "\n",
    "再通过全局均值的池化层，将每一个sequence做均值，类似于将单词合并:\n",
    "```\n",
    "input(batch,max_length,50)\n",
    "output(batch,50)\n",
    "```\n",
    "全连接层采用relu激活函数, 加入非线性:\n",
    "```\n",
    "input(batch,50)\n",
    "output(batch,16)\n",
    "```\n",
    "输出全连接层采用sigmoid激活函数:\n",
    "```\n",
    "input(batch,16)\n",
    "output(batch,1)\n",
    "```"
   ]
  },
  {
   "cell_type": "code",
   "execution_count": 7,
   "metadata": {},
   "outputs": [
    {
     "name": "stdout",
     "output_type": "stream",
     "text": [
      "Model: \"sequential\"\n",
      "_________________________________________________________________\n",
      "Layer (type)                 Output Shape              Param #   \n",
      "=================================================================\n",
      "embedding (Embedding)        (None, None, 50)          1000000   \n",
      "_________________________________________________________________\n",
      "global_average_pooling1d (Gl (None, 50)                0         \n",
      "_________________________________________________________________\n",
      "dense (Dense)                (None, 16)                816       \n",
      "_________________________________________________________________\n",
      "dropout (Dropout)            (None, 16)                0         \n",
      "_________________________________________________________________\n",
      "dense_1 (Dense)              (None, 1)                 17        \n",
      "=================================================================\n",
      "Total params: 1,000,833\n",
      "Trainable params: 1,000,833\n",
      "Non-trainable params: 0\n",
      "_________________________________________________________________\n"
     ]
    }
   ],
   "source": [
    "vocab_size = 20000\n",
    "\n",
    "model = keras.Sequential()\n",
    "model.add(keras.layers.Embedding(vocab_size, 50))\n",
    "model.add(keras.layers.GlobalAveragePooling1D())\n",
    "model.add(keras.layers.Dense(16, activation=tf.nn.relu))\n",
    "model.add(keras.layers.Dropout(0.5))\n",
    "model.add(keras.layers.Dense(1, activation=tf.nn.sigmoid))\n",
    "\n",
    "model.summary()"
   ]
  },
  {
   "cell_type": "markdown",
   "metadata": {},
   "source": [
    "### 损失函数和优化算法\n",
    "因为采用了sigmoid激活函数，所以损失函数不能用mean square error 均方误差，因为在sigmoid函数的两端梯度很小，会使w和b更新很慢 ，所以采用交叉熵代价函数（cross-entropy cost function）\n",
    "\n",
    "优化算法选择adam。\n",
    "\n",
    "这里参数使用字符串传递，在keras中对应字符串已经定义好。"
   ]
  },
  {
   "cell_type": "code",
   "execution_count": 8,
   "metadata": {},
   "outputs": [],
   "source": [
    "model.compile(optimizer='adam',\n",
    "              loss='binary_crossentropy',\n",
    "              metrics=['accuracy'])"
   ]
  },
  {
   "cell_type": "markdown",
   "metadata": {},
   "source": [
    "### 模型验证\n",
    "需要分出一个验证集，从训练集中分出10000条做验证集，监测准确率变化。"
   ]
  },
  {
   "cell_type": "code",
   "execution_count": 9,
   "metadata": {},
   "outputs": [],
   "source": [
    "x_val = train_data[:10000]\n",
    "partial_x_train = train_data[10000:]\n",
    "\n",
    "y_val = train_labels[:10000]\n",
    "partial_y_train = train_labels[10000:]"
   ]
  },
  {
   "cell_type": "markdown",
   "metadata": {},
   "source": [
    "在512小批量，迭代50次进行模型训练，同时在验证集上监测准确率变化。"
   ]
  },
  {
   "cell_type": "code",
   "execution_count": 10,
   "metadata": {},
   "outputs": [
    {
     "name": "stdout",
     "output_type": "stream",
     "text": [
      "Train on 15000 samples, validate on 10000 samples\n",
      "Epoch 1/30\n",
      "WARNING:tensorflow:Entity <function Function._initialize_uninitialized_variables.<locals>.initialize_variables at 0x140e3b7b8> could not be transformed and will be executed as-is. Please report this to the AutoGraph team. When filing the bug, set the verbosity to 10 (on Linux, `export AUTOGRAPH_VERBOSITY=10`) and attach the full output. Cause: module 'gast' has no attribute 'Num'\n",
      "WARNING: Entity <function Function._initialize_uninitialized_variables.<locals>.initialize_variables at 0x140e3b7b8> could not be transformed and will be executed as-is. Please report this to the AutoGraph team. When filing the bug, set the verbosity to 10 (on Linux, `export AUTOGRAPH_VERBOSITY=10`) and attach the full output. Cause: module 'gast' has no attribute 'Num'\n",
      "15000/15000 [==============================] - 2s 160us/sample - loss: 0.6917 - accuracy: 0.5474 - val_loss: 0.6889 - val_accuracy: 0.6079\n",
      "Epoch 2/30\n",
      "15000/15000 [==============================] - 2s 108us/sample - loss: 0.6842 - accuracy: 0.6297 - val_loss: 0.6776 - val_accuracy: 0.7331\n",
      "Epoch 3/30\n",
      "15000/15000 [==============================] - 2s 127us/sample - loss: 0.6661 - accuracy: 0.6950 - val_loss: 0.6534 - val_accuracy: 0.7585\n",
      "Epoch 4/30\n",
      "15000/15000 [==============================] - 2s 112us/sample - loss: 0.6334 - accuracy: 0.7329 - val_loss: 0.6138 - val_accuracy: 0.7777\n",
      "Epoch 5/30\n",
      "15000/15000 [==============================] - 2s 126us/sample - loss: 0.5874 - accuracy: 0.7679 - val_loss: 0.5639 - val_accuracy: 0.7954\n",
      "Epoch 6/30\n",
      "15000/15000 [==============================] - 2s 112us/sample - loss: 0.5332 - accuracy: 0.8039 - val_loss: 0.5091 - val_accuracy: 0.8327\n",
      "Epoch 7/30\n",
      "15000/15000 [==============================] - 2s 103us/sample - loss: 0.4810 - accuracy: 0.8243 - val_loss: 0.4595 - val_accuracy: 0.8537\n",
      "Epoch 8/30\n",
      "15000/15000 [==============================] - 2s 108us/sample - loss: 0.4350 - accuracy: 0.8534 - val_loss: 0.4199 - val_accuracy: 0.8579\n",
      "Epoch 9/30\n",
      "15000/15000 [==============================] - 2s 106us/sample - loss: 0.3962 - accuracy: 0.8665 - val_loss: 0.3895 - val_accuracy: 0.8636\n",
      "Epoch 10/30\n",
      "15000/15000 [==============================] - 2s 106us/sample - loss: 0.3642 - accuracy: 0.8845 - val_loss: 0.3634 - val_accuracy: 0.8744\n",
      "Epoch 11/30\n",
      "15000/15000 [==============================] - 2s 109us/sample - loss: 0.3378 - accuracy: 0.8927 - val_loss: 0.3467 - val_accuracy: 0.8778\n",
      "Epoch 12/30\n",
      "15000/15000 [==============================] - 2s 101us/sample - loss: 0.3117 - accuracy: 0.9043 - val_loss: 0.3314 - val_accuracy: 0.8794\n",
      "Epoch 13/30\n",
      "15000/15000 [==============================] - 2s 108us/sample - loss: 0.2904 - accuracy: 0.9133 - val_loss: 0.3194 - val_accuracy: 0.8829\n",
      "Epoch 14/30\n",
      "15000/15000 [==============================] - 2s 103us/sample - loss: 0.2734 - accuracy: 0.9199 - val_loss: 0.3102 - val_accuracy: 0.8849\n",
      "Epoch 15/30\n",
      "15000/15000 [==============================] - 2s 107us/sample - loss: 0.2582 - accuracy: 0.9283 - val_loss: 0.3037 - val_accuracy: 0.8854\n",
      "Epoch 16/30\n",
      "15000/15000 [==============================] - 2s 113us/sample - loss: 0.2409 - accuracy: 0.9339 - val_loss: 0.2978 - val_accuracy: 0.8848\n",
      "Epoch 17/30\n",
      "15000/15000 [==============================] - 2s 103us/sample - loss: 0.2288 - accuracy: 0.9415 - val_loss: 0.2957 - val_accuracy: 0.8864\n",
      "Epoch 18/30\n",
      "15000/15000 [==============================] - 2s 114us/sample - loss: 0.2150 - accuracy: 0.9442 - val_loss: 0.2938 - val_accuracy: 0.8863\n",
      "Epoch 19/30\n",
      "15000/15000 [==============================] - 2s 105us/sample - loss: 0.2034 - accuracy: 0.9502 - val_loss: 0.2930 - val_accuracy: 0.8853\n",
      "Epoch 20/30\n",
      "15000/15000 [==============================] - 2s 105us/sample - loss: 0.1904 - accuracy: 0.9553 - val_loss: 0.2912 - val_accuracy: 0.8858\n",
      "Epoch 21/30\n",
      "15000/15000 [==============================] - 2s 110us/sample - loss: 0.1813 - accuracy: 0.9593 - val_loss: 0.2896 - val_accuracy: 0.8881\n",
      "Epoch 22/30\n",
      "15000/15000 [==============================] - 2s 107us/sample - loss: 0.1722 - accuracy: 0.9647 - val_loss: 0.2915 - val_accuracy: 0.8860\n",
      "Epoch 23/30\n",
      "15000/15000 [==============================] - 2s 106us/sample - loss: 0.1632 - accuracy: 0.9659 - val_loss: 0.2899 - val_accuracy: 0.8877\n",
      "Epoch 24/30\n",
      "15000/15000 [==============================] - 2s 112us/sample - loss: 0.1560 - accuracy: 0.9698 - val_loss: 0.2897 - val_accuracy: 0.8900\n",
      "Epoch 25/30\n",
      "15000/15000 [==============================] - 3s 191us/sample - loss: 0.1468 - accuracy: 0.9727 - val_loss: 0.2930 - val_accuracy: 0.8878\n",
      "Epoch 26/30\n",
      "15000/15000 [==============================] - 3s 183us/sample - loss: 0.1421 - accuracy: 0.9737 - val_loss: 0.2992 - val_accuracy: 0.8861\n",
      "Epoch 27/30\n",
      "15000/15000 [==============================] - 3s 184us/sample - loss: 0.1342 - accuracy: 0.9765 - val_loss: 0.3105 - val_accuracy: 0.8823\n",
      "Epoch 28/30\n",
      "15000/15000 [==============================] - 3s 171us/sample - loss: 0.1218 - accuracy: 0.9781 - val_loss: 0.3103 - val_accuracy: 0.8838\n",
      "Epoch 29/30\n",
      "15000/15000 [==============================] - 2s 104us/sample - loss: 0.1097 - accuracy: 0.9815 - val_loss: 0.3087 - val_accuracy: 0.8847\n",
      "Epoch 30/30\n",
      "15000/15000 [==============================] - 2s 115us/sample - loss: 0.1056 - accuracy: 0.9806 - val_loss: 0.3137 - val_accuracy: 0.8846\n"
     ]
    }
   ],
   "source": [
    "history = model.fit(partial_x_train,\n",
    "                    partial_y_train,\n",
    "                    epochs=30,\n",
    "                    batch_size=512,\n",
    "                    validation_data=(x_val, y_val))"
   ]
  },
  {
   "cell_type": "markdown",
   "metadata": {},
   "source": [
    "### 评估模型"
   ]
  },
  {
   "cell_type": "code",
   "execution_count": 11,
   "metadata": {},
   "outputs": [
    {
     "name": "stdout",
     "output_type": "stream",
     "text": [
      "[0.3380286575126648, 0.87368]\n"
     ]
    }
   ],
   "source": [
    "results = model.evaluate(test_data, test_labels, verbose=0)\n",
    "print(results)"
   ]
  },
  {
   "cell_type": "markdown",
   "metadata": {},
   "source": [
    "训练中返回的history属性，包含在训练过程中记录的数据的字典。"
   ]
  },
  {
   "cell_type": "code",
   "execution_count": 12,
   "metadata": {},
   "outputs": [
    {
     "data": {
      "text/plain": [
       "dict_keys(['loss', 'accuracy', 'val_loss', 'val_accuracy'])"
      ]
     },
     "execution_count": 12,
     "metadata": {},
     "output_type": "execute_result"
    }
   ],
   "source": [
    "history_dict = history.history\n",
    "history_dict.keys()"
   ]
  },
  {
   "cell_type": "markdown",
   "metadata": {},
   "source": [
    "画出训练损失和验证损失的变化图："
   ]
  },
  {
   "cell_type": "code",
   "execution_count": 15,
   "metadata": {},
   "outputs": [
    {
     "data": {
      "image/png": "[encoded data removed]",
      "text/plain": [
       "<Figure size 432x288 with 1 Axes>"
      ]
     },
     "metadata": {
      "needs_background": "light"
     },
     "output_type": "display_data"
    }
   ],
   "source": [
    "import matplotlib.pyplot as plt\n",
    "\n",
    "acc = history.history['accuracy']\n",
    "val_acc = history.history['val_accuracy']\n",
    "loss = history.history['loss']\n",
    "val_loss = history.history['val_loss']\n",
    "\n",
    "epochs = range(1, len(acc) + 1)\n",
    "\n",
    "# \"bo\" is for \"blue dot\"\n",
    "plt.plot(epochs, loss, 'bo', label='Training loss')\n",
    "# b is for \"solid blue line\"\n",
    "plt.plot(epochs, val_loss, 'r', label='Validation loss')\n",
    "plt.title('Training and validation loss')\n",
    "plt.xlabel('Epochs')\n",
    "plt.ylabel('Loss')\n",
    "plt.legend()\n",
    "\n",
    "plt.show()"
   ]
  },
  {
   "cell_type": "markdown",
   "metadata": {},
   "source": [
    "训练集和验证集上准确率变化："
   ]
  },
  {
   "cell_type": "code",
   "execution_count": 14,
   "metadata": {},
   "outputs": [
    {
     "data": {
      "image/png": "[encoded data removed]",
      "text/plain": [
       "<Figure size 432x288 with 1 Axes>"
      ]
     },
     "metadata": {
      "needs_background": "light"
     },
     "output_type": "display_data"
    }
   ],
   "source": [
    "plt.clf()   # clear figure\n",
    "acc_values = history_dict['accuracy']\n",
    "val_acc_values = history_dict['val_accuracy']\n",
    "\n",
    "plt.plot(epochs, acc, 'bo', label='Training acc')\n",
    "plt.plot(epochs, val_acc, color='red', marker='x', linestyle='dashed',\n",
    "        linewidth=0.5, markersize=5,label='Validation acc')\n",
    "plt.title('Training and validation accuracy')\n",
    "plt.xlabel('Epochs')\n",
    "plt.ylabel('Loss')\n",
    "plt.legend()\n",
    "\n",
    "plt.show()"
   ]
  },
  {
   "cell_type": "markdown",
   "metadata": {},
   "source": [
    "训练损失逐渐降低，训练准确度逐渐提高，这是我们所期望看到的。但验证损失和验证集上的准确率却在第10次迭代开始变差，模型在训练集上表现良好，在没有见过的数据上表现很差(泛化能力差)，模型发生了过拟合。可以使模型在第10次epoch时结束，来避免过拟合。"
   ]
  },
  {
   "cell_type": "code",
   "execution_count": 16,
   "metadata": {},
   "outputs": [
    {
     "name": "stdout",
     "output_type": "stream",
     "text": [
      "Train on 15000 samples\n",
      "Epoch 1/10\n",
      "WARNING:tensorflow:Entity <function Function._initialize_uninitialized_variables.<locals>.initialize_variables at 0x13f9f4950> could not be transformed and will be executed as-is. Please report this to the AutoGraph team. When filing the bug, set the verbosity to 10 (on Linux, `export AUTOGRAPH_VERBOSITY=10`) and attach the full output. Cause: module 'gast' has no attribute 'Num'\n",
      "WARNING: Entity <function Function._initialize_uninitialized_variables.<locals>.initialize_variables at 0x13f9f4950> could not be transformed and will be executed as-is. Please report this to the AutoGraph team. When filing the bug, set the verbosity to 10 (on Linux, `export AUTOGRAPH_VERBOSITY=10`) and attach the full output. Cause: module 'gast' has no attribute 'Num'\n",
      "15000/15000 [==============================] - 2s 132us/sample - loss: 0.6915 - accuracy: 0.5533\n",
      "Epoch 2/10\n",
      "15000/15000 [==============================] - 1s 91us/sample - loss: 0.6828 - accuracy: 0.6436\n",
      "Epoch 3/10\n",
      "15000/15000 [==============================] - 1s 89us/sample - loss: 0.6625 - accuracy: 0.7068\n",
      "Epoch 4/10\n",
      "15000/15000 [==============================] - 1s 97us/sample - loss: 0.6247 - accuracy: 0.7467\n",
      "Epoch 5/10\n",
      "15000/15000 [==============================] - 1s 85us/sample - loss: 0.5729 - accuracy: 0.7809\n",
      "Epoch 6/10\n",
      "15000/15000 [==============================] - 1s 90us/sample - loss: 0.5139 - accuracy: 0.8100\n",
      "Epoch 7/10\n",
      "15000/15000 [==============================] - 1s 95us/sample - loss: 0.4626 - accuracy: 0.8367\n",
      "Epoch 8/10\n",
      "15000/15000 [==============================] - 1s 94us/sample - loss: 0.4133 - accuracy: 0.8596\n",
      "Epoch 9/10\n",
      "15000/15000 [==============================] - 1s 81us/sample - loss: 0.3739 - accuracy: 0.8711\n",
      "Epoch 10/10\n",
      "15000/15000 [==============================] - 1s 81us/sample - loss: 0.3416 - accuracy: 0.8855\n",
      "[0.3608414527893066, 0.86288]\n"
     ]
    }
   ],
   "source": [
    "model_new = keras.Sequential()\n",
    "model_new.add(keras.layers.Embedding(vocab_size, 50))\n",
    "model_new.add(keras.layers.GlobalAveragePooling1D())\n",
    "model_new.add(keras.layers.Dense(16, activation=tf.nn.relu))\n",
    "model_new.add(keras.layers.Dropout(0.5))\n",
    "model_new.add(keras.layers.Dense(1, activation=tf.nn.sigmoid))\n",
    "model_new.compile(optimizer='adam',loss='binary_crossentropy',metrics=['accuracy'])\n",
    "\n",
    "model_new.fit(partial_x_train,partial_y_train,epochs=10,batch_size=512)\n",
    "results = model_new.evaluate(test_data, test_labels, verbose=0)\n",
    "print(results)"
   ]
  },
  {
   "cell_type": "markdown",
   "metadata": {},
   "source": [
    "用训练好的模型在新数据上做预测"
   ]
  },
  {
   "cell_type": "code",
   "execution_count": 17,
   "metadata": {},
   "outputs": [
    {
     "data": {
      "text/plain": [
       "array([[0.07404366],\n",
       "       [0.9999701 ],\n",
       "       [0.84090924],\n",
       "       ...,\n",
       "       [0.06889534],\n",
       "       [0.22371787],\n",
       "       [0.9506227 ]], dtype=float32)"
      ]
     },
     "execution_count": 17,
     "metadata": {},
     "output_type": "execute_result"
    }
   ],
   "source": [
    "model.predict(test_data)"
   ]
  },
  {
   "cell_type": "code",
   "execution_count": 18,
   "metadata": {},
   "outputs": [
    {
     "name": "stdout",
     "output_type": "stream",
     "text": [
      "[[14 20  9 38 78  0  0  0  0  0  0  0  0  0  0  0  0  0  0  0  0  0  0  0\n",
      "   0  0  0  0  0  0  0  0  0  0  0  0  0  0  0  0  0  0  0  0  0  0  0  0\n",
      "   0  0  0  0  0  0  0  0  0  0  0  0  0  0  0  0  0  0  0  0  0  0  0  0\n",
      "   0  0  0  0  0  0  0  0  0  0  0  0  0  0  0  0  0  0  0  0  0  0  0  0\n",
      "   0  0  0  0  0  0  0  0  0  0  0  0  0  0  0  0  0  0  0  0  0  0  0  0\n",
      "   0  0  0  0  0  0  0  0  0  0  0  0  0  0  0  0  0  0  0  0  0  0  0  0\n",
      "   0  0  0  0  0  0  0  0  0  0  0  0  0  0  0  0  0  0  0  0  0  0  0  0\n",
      "   0  0  0  0  0  0  0  0  0  0  0  0  0  0  0  0  0  0  0  0  0  0  0  0\n",
      "   0  0  0  0  0  0  0  0  0  0  0  0  0  0  0  0  0  0  0  0  0  0  0  0\n",
      "   0  0  0  0  0  0  0  0  0  0  0  0  0  0  0  0  0  0  0  0  0  0  0  0\n",
      "   0  0  0  0  0  0  0  0  0  0  0  0  0  0  0  0]]\n"
     ]
    },
    {
     "data": {
      "text/plain": [
       "array([[0.380517]], dtype=float32)"
      ]
     },
     "execution_count": 18,
     "metadata": {},
     "output_type": "execute_result"
    }
   ],
   "source": [
    "sentence = 'This movie is so bad'\n",
    "review = [word_index[w] for w in sentence.lower().split()]\n",
    "review = keras.preprocessing.sequence.pad_sequences([review],\n",
    "                                           value=word_index[\"<PAD>\"],\n",
    "                                           padding='post',\n",
    "                                           maxlen=256)\n",
    "print(review)\n",
    "model.predict(review)"
   ]
  },
  {
   "cell_type": "markdown",
   "metadata": {},
   "source": [
    "给深度模型加入LSTM"
   ]
  },
  {
   "cell_type": "code",
   "execution_count": 19,
   "metadata": {},
   "outputs": [
    {
     "name": "stdout",
     "output_type": "stream",
     "text": [
      "Train on 15000 samples\n",
      "Epoch 1/20\n",
      "WARNING:tensorflow:Entity <function Function._initialize_uninitialized_variables.<locals>.initialize_variables at 0x14241cbf8> could not be transformed and will be executed as-is. Please report this to the AutoGraph team. When filing the bug, set the verbosity to 10 (on Linux, `export AUTOGRAPH_VERBOSITY=10`) and attach the full output. Cause: module 'gast' has no attribute 'Num'\n",
      "WARNING: Entity <function Function._initialize_uninitialized_variables.<locals>.initialize_variables at 0x14241cbf8> could not be transformed and will be executed as-is. Please report this to the AutoGraph team. When filing the bug, set the verbosity to 10 (on Linux, `export AUTOGRAPH_VERBOSITY=10`) and attach the full output. Cause: module 'gast' has no attribute 'Num'\n",
      "15000/15000 [==============================] - 42s 3ms/sample - loss: 0.6929 - accuracy: 0.5181\n",
      "Epoch 2/20\n",
      "15000/15000 [==============================] - 39s 3ms/sample - loss: 0.6877 - accuracy: 0.5629\n",
      "Epoch 3/20\n",
      "15000/15000 [==============================] - 39s 3ms/sample - loss: 0.6437 - accuracy: 0.6408\n",
      "Epoch 4/20\n",
      "15000/15000 [==============================] - 42s 3ms/sample - loss: 0.6277 - accuracy: 0.6317\n",
      "Epoch 5/20\n",
      "15000/15000 [==============================] - 42s 3ms/sample - loss: 0.5870 - accuracy: 0.7056\n",
      "Epoch 6/20\n",
      "15000/15000 [==============================] - 42s 3ms/sample - loss: 0.5645 - accuracy: 0.7367\n",
      "Epoch 7/20\n",
      "15000/15000 [==============================] - 37s 2ms/sample - loss: 0.5493 - accuracy: 0.7535\n",
      "Epoch 8/20\n",
      "15000/15000 [==============================] - 37s 2ms/sample - loss: 0.5302 - accuracy: 0.7623\n",
      "Epoch 9/20\n",
      "15000/15000 [==============================] - 39s 3ms/sample - loss: 0.5063 - accuracy: 0.7795\n",
      "Epoch 10/20\n",
      "15000/15000 [==============================] - 36s 2ms/sample - loss: 0.5051 - accuracy: 0.7806\n",
      "Epoch 11/20\n",
      "15000/15000 [==============================] - 40s 3ms/sample - loss: 0.4909 - accuracy: 0.7840\n",
      "Epoch 12/20\n",
      "15000/15000 [==============================] - 37s 2ms/sample - loss: 0.4831 - accuracy: 0.7944\n",
      "Epoch 13/20\n",
      "15000/15000 [==============================] - 38s 3ms/sample - loss: 0.4767 - accuracy: 0.8011\n",
      "Epoch 14/20\n",
      "15000/15000 [==============================] - 37s 2ms/sample - loss: 0.4609 - accuracy: 0.8048\n",
      "Epoch 15/20\n",
      "15000/15000 [==============================] - 38s 3ms/sample - loss: 0.4507 - accuracy: 0.8141\n",
      "Epoch 16/20\n",
      "15000/15000 [==============================] - 39s 3ms/sample - loss: 0.4446 - accuracy: 0.8146\n",
      "Epoch 17/20\n",
      "15000/15000 [==============================] - 39s 3ms/sample - loss: 0.4192 - accuracy: 0.8265\n",
      "Epoch 18/20\n",
      "15000/15000 [==============================] - 39s 3ms/sample - loss: 0.4127 - accuracy: 0.8275\n",
      "Epoch 19/20\n",
      "15000/15000 [==============================] - 40s 3ms/sample - loss: 0.4016 - accuracy: 0.8346\n",
      "Epoch 20/20\n",
      "15000/15000 [==============================] - 40s 3ms/sample - loss: 0.3984 - accuracy: 0.8282\n",
      "[0.5577243999481201, 0.73124]\n"
     ]
    }
   ],
   "source": [
    "new = keras.Sequential()\n",
    "new.add(keras.layers.Embedding(vocab_size, 50))\n",
    "new.add(keras.layers.LSTM(64, dropout=0.2, recurrent_dropout=0.2))\n",
    "new.add(keras.layers.Dense(16, activation=tf.nn.relu))\n",
    "new.add(keras.layers.Dense(1, activation=tf.nn.sigmoid))\n",
    "new.compile(optimizer='adam',loss='binary_crossentropy',metrics=['accuracy'])\n",
    "\n",
    "new.fit(partial_x_train,partial_y_train,epochs=20,batch_size=512)\n",
    "results = new.evaluate(test_data, test_labels, verbose=0)\n",
    "print(results)"
   ]
  }
 ],
 "metadata": {
  "kernelspec": {
   "display_name": "Python 3",
   "language": "python",
   "name": "python3"
  },
  "language_info": {
   "codemirror_mode": {
    "name": "ipython",
    "version": 3
   },
   "file_extension": ".py",
   "mimetype": "text/x-python",
   "name": "python",
   "nbconvert_exporter": "python",
   "pygments_lexer": "ipython3",
   "version": "3.7.0"
  }
 },
 "nbformat": 4,
 "nbformat_minor": 4
}
